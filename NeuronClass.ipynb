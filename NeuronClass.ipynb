{
 "cells": [
  {
   "cell_type": "code",
   "execution_count": 1,
   "id": "4015a728-7e4d-4b84-888a-cb80bb10c9f3",
   "metadata": {},
   "outputs": [
    {
     "name": "stderr",
     "output_type": "stream",
     "text": [
      "NEURON: unable to open font \"*helvetica-medium-r-normal*--14*\", using \"fixed\"\n"
     ]
    }
   ],
   "source": [
    "# NEURON simulator imports\n",
    "from neuron import h, gui\n",
    "from neuron.units import mV, ms, sec, um\n",
    "\n",
    "# other essential packages\n",
    "import numpy as np\n",
    "import matplotlib.pyplot as plt\n",
    "from scipy import stats"
   ]
  },
  {
   "cell_type": "code",
   "execution_count": 2,
   "id": "8e9c009a-ad3c-4b1e-afe1-6ae5ce3bb17c",
   "metadata": {},
   "outputs": [],
   "source": [
    "%matplotlib inline"
   ]
  },
  {
   "cell_type": "code",
   "execution_count": 3,
   "id": "45be45bc-f238-4a78-a8c0-7a874220f7ff",
   "metadata": {},
   "outputs": [
    {
     "name": "stdout",
     "output_type": "stream",
     "text": [
      "/home/hanna/Documents/studies/academies/2024-LASCON/project/synergisticDendrites\n",
      "Mod files:\n",
      "\n",
      " -> \u001b[32mCompiling\u001b[0m mod_func.cpp\n",
      " => \u001b[32mLINKING\u001b[0m shared library ./libnrnmech.so\n",
      "Successfully created x86_64/special\n"
     ]
    }
   ],
   "source": [
    "# c compiler\n",
    "!nrnivmodl"
   ]
  },
  {
   "cell_type": "code",
   "execution_count": 35,
   "id": "bc628321-bf5e-467f-bbb5-b076139ec444",
   "metadata": {},
   "outputs": [],
   "source": [
    "class Neuron():\n",
    "    \"\"\"\n",
    "    Creates a NEURON cell instance with specific dendritic morphologies. Neurons can have passive or active\n",
    "    somas and dendrites. They can be stimulated and return membrane potential recordings from pre- and post-\n",
    "    synaptic stimulation sites and from the soma.\n",
    "    \n",
    "    Parameters\n",
    "    ----------\n",
    "    alpha (float): value between 0 and 1, indicating the pyramidal-likeness, as opposed to purkinje-likeness, \n",
    "                   of the dendritic morphology\n",
    "    celsius (int): temperature in Celsius\n",
    "    maxTreeLength (float): maximum length of dendritic tree in microns\n",
    "    Vrest (float): resting potential in mV\n",
    "    Cmem (float): membrane capacitance in uF cm^-2\n",
    "    Rmem (float): membrane resistance in Ohm\n",
    "    Ra (flat): axial resistance in Ohm\n",
    "    geo (dict): geometry-defining default parameters of soma and dendritic sections\n",
    "    mech (dict): mechanisms of dendrite, soma and axon Sections ('pas' for passive, or 'hh' for Hodgekin-Huxley)\n",
    "    \"\"\"\n",
    "    \n",
    "    def __init__(self,\n",
    "                 alpha=0,\n",
    "                 celsius=37,\n",
    "                 Vrest=-70*mV,\n",
    "                 Cmem=0.638856,\n",
    "                 Rmem=120236.0,\n",
    "                 Ra=141.949,\n",
    "                 maxTreeLength=800*um,\n",
    "                 geo={'soma': {'L':12.6157*um, 'diam': 12.6157*um, 'nseg': 5}, \n",
    "                      'dendrite': {'L': 10*um, 'diam': 1*um, 'nseg': 5}},\n",
    "                 mech={'dendrite': 'pas', 'soma': 'hh', 'axon': 'pas'}):\n",
    "        \n",
    "        # reset h before creating a new neuron\n",
    "        h('forall delete_section()')\n",
    "        self.h = h\n",
    "        h.celsius = celsius\n",
    "        \n",
    "        # set biophysical parameters (in soma)\n",
    "        self.Vrest = Vrest\n",
    "        self.Cmem = Cmem\n",
    "        self.Rmem = Rmem\n",
    "        self.Ra = Ra\n",
    "        self.mech = mech\n",
    "\n",
    "        # geometry defining parameters\n",
    "        self.geo = geo\n",
    "        self.alpha = alpha\n",
    "        self.maxTreeLength = maxTreeLength\n",
    "\n",
    "        # create soma, define its geometry and biophysics\n",
    "        self.soma = self.createSection('soma')\n",
    "        \n",
    "        # create dendritic tree\n",
    "        self.dendrites = []\n",
    "        self.dendPaths = []\n",
    "        self.growDendrites()\n",
    "\n",
    "    def createSection(self, type):\n",
    "        # create NEURON Section instance\n",
    "        sec = h.Section(name=type, cell=self)\n",
    "        \n",
    "        # define Section geometry\n",
    "        sec.L = self.geo[type]['L']\n",
    "        sec.diam = self.geo[type]['diam']\n",
    "        sec.nseg = self.geo[type]['nseg']\n",
    "        \n",
    "        # define biophysics\n",
    "        sec.insert(self.mech[type])\n",
    "        sec.Ra = self.Ra*(sec.diam/self.geo['soma']['diam'])\n",
    "        sec.cm = self.Cmem*(self.geo['soma']['diam']/sec.diam)\n",
    "        \n",
    "        # set passive biophysical parameters\n",
    "        if self.mech[type]=='pas':\n",
    "            sec.e_pas = self.Vrest\n",
    "            sec.g_pas = (1/self.Rmem)*(self.geo['soma']['diam']/sec.diam)\n",
    "            \n",
    "        # set hodgekin huxley biophysical parameters\n",
    "        elif self.mech[type]=='hh':\n",
    "            sec.gnabar_hh = 0.12  # Sodium conductance in S/cm2\n",
    "            sec.gkbar_hh = 0.036  # Potassium conductance in S/cm2\n",
    "            sec.gl_hh = 0.0003    # Leak conductance in S/cm2\n",
    "            sec.el_hh = -54.3     # Reversal potential in mV\n",
    "\n",
    "        return sec\n",
    "\n",
    "    def addBranch(self, parent):\n",
    "        \"\"\"Creates a new dendrite section and connects it to the end of the parent. Returns dendrite section.\"\"\"\n",
    "        dend = self.createSection('dendrite')\n",
    "        dend.connect(parent(1), 0)\n",
    "        self.dendrites.append(dend)\n",
    "        return dend\n",
    "\n",
    "    def growDendrites(self, root=None):\n",
    "        # if neuron has no dendrites yet, create one and connect to soma\n",
    "        if not self.dendrites:\n",
    "            root = self.addBranch(self.soma)\n",
    "        elif not root:\n",
    "            root = self.dendrite[-1]\n",
    "            \n",
    "        # initialize queue with new roots that can grow into branches\n",
    "        roots = [[root]]   \n",
    "        count = 0\n",
    "        maxCount = 300\n",
    "\n",
    "        while roots and count<maxCount:\n",
    "            # pick a root and make it the current branch\n",
    "            currentBranch = roots[-1]\n",
    "            branchLength = len(currentBranch)*self.geo['dendrite']['L']\n",
    "            del roots[-1]\n",
    "            \n",
    "            # extend branch until it has reached maximum length\n",
    "            while branchLength<self.maxTreeLength:\n",
    "                # add a new dendrite section\n",
    "                dend = self.addBranch(currentBranch[-1])\n",
    "                \n",
    "                # check if bifurcation occurs \n",
    "                if np.random.rand()<self.getBranchProb(branchLength):\n",
    "                    # connect sister branch to parent\n",
    "                    sister = self.addBranch(currentBranch[-1])\n",
    "                    # add sister branch to new roots\n",
    "                    roots.append(currentBranch+[sister])\n",
    "                    \n",
    "                # add first branch to current branch list\n",
    "                currentBranch.append(dend)\n",
    "                \n",
    "                # update branchLength\n",
    "                branchLength += self.geo['dendrite']['L']\n",
    "                count += 1\n",
    "\n",
    "    def getBranchProb(self, dist2soma):\n",
    "        # sample if cell acts like pyramidal or purkinje cell\n",
    "        pyramidalLike = True if np.random.rand()<self.alpha else False\n",
    "        # discretize probability distributions\n",
    "        L = self.geo['dendrite']['L']\n",
    "        d = dist2soma-L*0.5\n",
    "        if pyramidalLike:\n",
    "            mu = 5.26\n",
    "            sigma = 1.55\n",
    "            return (1/(d*sigma*np.sqrt(2*np.pi)))*np.exp(-((np.log(d)-mu)**2)/(2*sigma**2))*L\n",
    "        else:\n",
    "            return 0.5*(stats.gamma.pdf(d,a=2,scale=20)+stats.gamma.pdf(d,a=6.5,scale=30))*L\n",
    "\n",
    "    def getDendriteIdx(self, dist2soma):\n",
    "        \"\"\"Returns indices of all dendrites with a certain distance (path length) from the soma.\"\"\"\n",
    "        pass\n",
    "\n",
    "    def stimulate(self, n, T=1*sec, amp=1*mV, noise=0.2):\n",
    "        pass"
   ]
  },
  {
   "cell_type": "code",
   "execution_count": 36,
   "id": "8bd7c4b1-501e-4a31-a410-f0095564dabf",
   "metadata": {},
   "outputs": [],
   "source": [
    "cell = Neuron()"
   ]
  },
  {
   "cell_type": "code",
   "execution_count": null,
   "id": "242a1c6e-ced6-4ab3-a2a7-05f703e683de",
   "metadata": {},
   "outputs": [],
   "source": []
  },
  {
   "cell_type": "code",
   "execution_count": 37,
   "id": "da7485d1-0bc2-490f-bb4e-b90068959298",
   "metadata": {},
   "outputs": [
    {
     "data": {
      "text/plain": [
       "0.0"
      ]
     },
     "execution_count": 37,
     "metadata": {},
     "output_type": "execute_result"
    }
   ],
   "source": [
    "# plot the neuron\n",
    "shape_window = h.Shape()\n",
    "shape_window.exec_menu('Show Diam')"
   ]
  },
  {
   "cell_type": "code",
   "execution_count": 17,
   "id": "92aa52a9-5609-445d-87f3-f01b39954a84",
   "metadata": {},
   "outputs": [],
   "source": [
    "# simulation parameters\n",
    "t = 0*ms                   # simulation starts at t = 0 ms\n",
    "dt = 0.01*ms               # integration time step, ms "
   ]
  }
 ],
 "metadata": {
  "kernelspec": {
   "display_name": "Python 3 (ipykernel)",
   "language": "python",
   "name": "python3"
  },
  "language_info": {
   "codemirror_mode": {
    "name": "ipython",
    "version": 3
   },
   "file_extension": ".py",
   "mimetype": "text/x-python",
   "name": "python",
   "nbconvert_exporter": "python",
   "pygments_lexer": "ipython3",
   "version": "3.11.4"
  }
 },
 "nbformat": 4,
 "nbformat_minor": 5
}
