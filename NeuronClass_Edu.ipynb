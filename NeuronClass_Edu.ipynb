{
 "cells": [
  {
   "cell_type": "markdown",
   "id": "f4c9baed-ac48-43ac-951e-45a43929e1f7",
   "metadata": {},
   "source": [
    "# MORPHOLOGY TEST"
   ]
  },
  {
   "cell_type": "code",
   "execution_count": 1,
   "id": "45615aec-3e1b-486c-93f4-5e410ca79f94",
   "metadata": {},
   "outputs": [],
   "source": [
    "import numpy as np\n",
    "from matplotlib import pyplot, cm\n",
    "from neuron import h, gui\n",
    "from neuron.units import mV, ms, sec, um\n",
    "\n",
    "%matplotlib inline\n",
    "# c compiler\n",
    "#!nrnivmodl vecevent.mod"
   ]
  },
  {
   "cell_type": "code",
   "execution_count": 2,
   "id": "7f19f656-1bb8-4355-a5b1-c9006b218593",
   "metadata": {},
   "outputs": [],
   "source": [
    "def createSynapse(dendIdx, loc=0.5, tau=[2*ms, 4*ms], e=0*mV):\n",
    "    \"\"\"Creates an excitatory synapse on the dendrite given by Idx.\"\"\"\n",
    "    syn = h.Exp2Syn(dend[dendIdx](loc))\n",
    "    syn.tau1 = tau[0]\n",
    "    syn.tau2 = tau[1]\n",
    "    syn.e = e\n",
    "    return syn \n",
    "\n",
    "def createStim(isi=20*ms, num=100, start=1*ms, noise=1, seed=9):\n",
    "    stim = h.NetStim()\n",
    "    stim.interval = isi\n",
    "    stim.number = num\n",
    "    stim.start = start\n",
    "    stim.noise = noise\n",
    "    stim.noiseFromRandom123(seed, 0, 0)\n",
    "    stim.seed(seed)\n",
    "    \n",
    "    return stim\n",
    "\n",
    "def connectStim(syn, stim, delay=1*ms, weight=0.4):\n",
    "    conn = h.NetCon(stim, syn)\n",
    "    conn.delay = delay\n",
    "    conn.weight[0] = weight\n",
    "    \n",
    "    return conn\n",
    "\n",
    "def createStim(isi=20*ms, num=100, start=1*ms, noise=1, seed=9):\n",
    "        stim = h.NetStim()\n",
    "        stim.interval = isi\n",
    "        stim.number = num\n",
    "        stim.start = start\n",
    "        stim.noise = noise\n",
    "        stim.noiseFromRandom123(seed, 0, 0)\n",
    "        stim.seed(seed)\n",
    "        return stim\n",
    "\n",
    "def homogeneous_poisson(rate, tmax, bin_size):\n",
    "    \"Rate in Hz, Tmax and bin_size in ms\"\n",
    "    \n",
    "    nbins = np.floor(tmax/bin_size).astype(int)\n",
    "    \n",
    "    prob_of_spike = rate * bin_size / 1e3 #In ms^-1\n",
    "    \n",
    "    spikes = np.random.rand(nbins) < prob_of_spike\n",
    "    \n",
    "    return spikes * 1\n",
    "\n",
    "def Background_noise(rate,bin_size,tmax,numInputs):\n",
    "\n",
    "    BoolTS = homogeneous_poisson(rate, tmax, bin_size)\n",
    "    \n",
    "    return [np.where(BoolTS==1)[0]*bin_size for i in range(numInputs)],BoolTS\n",
    "\n",
    "def CreateVecStim(numInputs,tmax,rate=10,bin_size=0.1):\n",
    "\n",
    "    Noise,BoolTS = Background_noise(rate,bin_size,tmax,numInputs)\n",
    "\n",
    "    stimulations = [h.VecStim() for i in range(numInputs)]\n",
    "\n",
    "    Noivec = [h.Vector(Noise[i]) for i in range(numInputs)]\n",
    "\n",
    "    for i in range(numInputs):\n",
    "        \n",
    "        stimulations[i].play(Noivec[i])\n",
    "    \n",
    "    return stimulations,Noise,BoolTS\n",
    "\n",
    "np.random.seed(12345)\n"
   ]
  },
  {
   "cell_type": "code",
   "execution_count": 52,
   "id": "9d640024-52c3-4168-b3d8-35eaba79680c",
   "metadata": {},
   "outputs": [],
   "source": [
    "\n",
    "def CorrInputs(tmax,rate,Nsour=2,bin_size=1,a=0,b=1000):\n",
    "    \n",
    "    Noiseb,BoolTS = Background_noise(rate,bin_size,tmax,1)\n",
    "    \n",
    "    NoiseCorr = []\n",
    "    \n",
    "    NoiseCorr.append(np.int32(np.round(Noiseb[0])))\n",
    "    \n",
    "    for i in range(Nsour-1):\n",
    "\n",
    "        DerI = np.int32(np.round(Noiseb[0] + np.random.normal(a,b,len(Noiseb))))\n",
    "\n",
    "        #Inputs should be inside the simulation time interval\n",
    "        DerI *= 1*(DerI >= 0)*(DerI < tmax)\n",
    "\n",
    "        #Delete inputs at 0 s\n",
    "        DerI = [i for i in DerI if i!=0]\n",
    "\n",
    "        NoiseCorr.append(np.array(DerI))\n",
    "    \n",
    "    stimulationsSour = [h.VecStim() for i in range(Nsour)]\n",
    "\n",
    "    NoivecS = [h.Vector(NoiseCorr[i]) for i in range(Nsour)]\n",
    "\n",
    "    for i in range(Nsour):\n",
    "        \n",
    "        stimulationsSour[i].play(NoivecS[i])\n",
    "    \n",
    "    return stimulationsSour\n",
    "\n",
    "def BooleanInputInfo(NoiseCorrt,tmax,bin_size,numSour):\n",
    "    \n",
    "    St = np.arange(0,tmax,bin_size)\n",
    "\n",
    "    Sbool = np.zeros([numSour,St.shape[0]],dtype=np.int8)\n",
    "\n",
    "    for i in range(len(NoiseCorrt)):\n",
    "\n",
    "        for j in NoiseCorrt[i]:\n",
    "\n",
    "            Sbool[i,np.where(St==j)] = 1\n",
    "    \n",
    "    return Sbool\n",
    "\n",
    "from scipy.ndimage import gaussian_filter1d\n",
    "import numpy as np\n",
    "\n",
    "def InputCorr(Inputs):\n",
    "    \n",
    "    S = np.zeros([len(Inputs),len(Inputs[0])])\n",
    "\n",
    "    sigma = 1\n",
    "\n",
    "    for i in range(len(Inputs)):\n",
    "\n",
    "        S[i,np.where(Inputs[i]==1)[0]] = 1\n",
    "        S[i,np.where((S[1:]-S[:-1])==1)[0]] = 0.5\n",
    "        S[i,np.where((S[1:]-S[:-1])==-1)[0]+1] = 0.5\n",
    "\n",
    "        S[i] = gaussian_filter1d(S[i],sigma)\n",
    "\n",
    "    cor = np.corrcoef(S[0],S[1])[0,1]\n",
    "\n",
    "    return cor\n",
    "\n",
    "def EI_Synaptic_info(numNoiseInputs,tauE,tauI):\n",
    "    \n",
    "    pp = [0.8,0.2]\n",
    "\n",
    "    es = [0,-80]\n",
    "\n",
    "    ee = np.random.choice(es,numNoiseInputs,p=pp)\n",
    "\n",
    "    tau = np.zeros([ee.shape[0],2])\n",
    "\n",
    "    tau[np.where(ee<0)] = tauI\n",
    "    tau[np.where(ee>=0)] = tauE\n",
    "    \n",
    "    return ee,tau\n"
   ]
  },
  {
   "cell_type": "code",
   "execution_count": 53,
   "id": "4221ded6-52e7-4950-a575-06810f909b28",
   "metadata": {},
   "outputs": [],
   "source": [
    "\n",
    "def ShanonEntropy(X):\n",
    "    \n",
    "    if len(X.shape)>1:\n",
    "        t,size = X.shape\n",
    "        \n",
    "        base = np.array([2**i for i in range(size)])\n",
    "\n",
    "        Xst = np.dot(X,base)\n",
    "\n",
    "    else:\n",
    "        size = 1\n",
    "        \n",
    "        Xst = 1*X\n",
    "    \n",
    "    states,counts = np.unique(Xst,return_counts=True)\n",
    "\n",
    "    H = 0\n",
    "\n",
    "    for i in range(len(states)):\n",
    "\n",
    "        p = counts[i]/np.sum(counts)\n",
    "\n",
    "        H += -p*np.log(p)\n",
    "    \n",
    "    return H\n",
    "\n",
    "def IMf(x,y):\n",
    "    \n",
    "    h1 = ShanonEntropy(x)\n",
    "    \n",
    "    h2 = ShanonEntropy(y)\n",
    "\n",
    "    h3 = ShanonEntropy(np.column_stack((x,y)))\n",
    "\n",
    "    return h1+h2-h3\n",
    "\n",
    "def PID(T,X):\n",
    "    \n",
    "    RR = np.min([IMf(T,X[:,0]),IMf(T,X[:,1])])\n",
    "    \n",
    "    ru1 = IMf(X[:,0],T)\n",
    "    ru2 = IMf(X[:,1],T)\n",
    "        \n",
    "    U1 = ru1 - RR\n",
    "\n",
    "    U2 = ru2 - RR\n",
    "    \n",
    "    Syn = IMf(X,T) - ru1 - ru2 + RR\n",
    "        \n",
    "    return [RR,U1,U2,Syn]\n",
    "\n",
    "def PID_analysis(recordings,Input_bin_size=1,thres=-30,tau=1,Timebining=1,skip=2000):\n",
    "    \n",
    "    tmax = int(np.round(recordings[\"time\"][-1]))\n",
    "    \n",
    "    numSour = len(recordings[\"inputTime\"])\n",
    "    \n",
    "    Inputs = BooleanInputInfo(recordings[\"inputTime\"],tmax,Input_bin_size,numSour)\n",
    "    \n",
    "    Vsoma = 1*(recordings[\"soma\"] > thres)[ini:]\n",
    "\n",
    "    t = recordings[\"time\"]\n",
    "\n",
    "    dt = np.mean(t[1:]-t[:-1])\n",
    "    \n",
    "    tw = int(np.round(Input_bin_size/dt))\n",
    "    \n",
    "    Ts0 = int(len(Vsoma)/tw)\n",
    "    \n",
    "    bolskip = int(ini*dt/Input_bin_size)\n",
    "    \n",
    "    T = int((len(Inputs[0])-bolskip)/Timebining)\n",
    "\n",
    "    #Equalize input and soma time series    \n",
    "    Somabool = np.zeros(Ts0,dtype=np.int8)\n",
    "    \n",
    "    for i in range(Ts0-1):\n",
    "\n",
    "        Somabool[i] = np.sum(Vsoma[tw*i:tw*(i+1)])>0\n",
    "    \n",
    "    ######################################\n",
    "    SS = [Somabool]\n",
    "    \n",
    "    for i in range(len(Inputs)):\n",
    "        \n",
    "        SS.append(Inputs[i][bolskip:])\n",
    "    \n",
    "    timeS = np.zeros([len(SS),T],dtype=np.int32)\n",
    "    \n",
    "    for j in range(len(SS)):\n",
    "\n",
    "        for i in range(T-1):\n",
    "\n",
    "            timeS[j,i] = np.int32(1*(np.sum(SS[j][i*Timebining:(i+1)*Timebining])>0))\n",
    "    \n",
    "    T = timeS[0,tau:]\n",
    "\n",
    "    Xs = timeS[1:,:-tau].T\n",
    "\n",
    "    Red,U1,U2,Syn = PID(T,Xs)\n",
    "    \n",
    "    cor = InputCorr(Inputs)\n",
    "\n",
    "    return [Red,np.max([U1,U2]),Syn,cor]\n"
   ]
  },
  {
   "cell_type": "code",
   "execution_count": 50,
   "id": "93b0ea9c-32e1-4738-b411-942fb81edaa8",
   "metadata": {},
   "outputs": [
    {
     "data": {
      "text/plain": [
       "0.0"
      ]
     },
     "execution_count": 50,
     "metadata": {},
     "output_type": "execute_result"
    }
   ],
   "source": [
    "h.nrn_load_dll(\"x86_64/vecevent.so\")"
   ]
  },
  {
   "cell_type": "code",
   "execution_count": 28,
   "id": "34ab723d-47ad-4e3a-b7b2-e7d04df7886a",
   "metadata": {},
   "outputs": [],
   "source": [
    "\n",
    "filename = \"DATA/Pyrp22.hoc\"\n",
    "\n",
    "h.load_file(filename) \n",
    "\n",
    "allsec = h.allsec()\n",
    "\n",
    "dend = [s for s in allsec if s.name().startswith('dend')]\n"
   ]
  },
  {
   "cell_type": "code",
   "execution_count": null,
   "id": "f77a84fc-f4bc-4a2f-a2d3-11ee773bfbb2",
   "metadata": {},
   "outputs": [],
   "source": []
  },
  {
   "cell_type": "code",
   "execution_count": 29,
   "id": "4c68e540-4021-4c9a-af3d-62419b626188",
   "metadata": {},
   "outputs": [],
   "source": [
    "#INITIALIZE PARAMETERS\n",
    "\n",
    "Vrest = -70*mV\n",
    "\n",
    "# membrane properties are defined here */\n",
    "membranecap = 0.638856    # specific membrane capacitance in uF cm^-2 */\n",
    "membraneresist = 120236.0 # specific membrane resistance in ohm cm^2 */\n",
    "axialresist = 141.949     # axial resistivity in ohm cm */\n",
    "\n",
    "# dend sections\n",
    "dend = [s for s in allsec if s.name().startswith('dend')]\n",
    "\n",
    "for sec in dend:\n",
    "    \n",
    "    sec.insert('pas')\n",
    "    sec.e_pas=Vrest\n",
    "    sec.g_pas = 5.34/membraneresist\n",
    "    \n",
    "    sec.Ra = axialresist\n",
    "    sec.cm = 5.34*membranecap\n",
    "\n",
    "Soma = [s for s in allsec if s.name().startswith('soma')]\n",
    "\n",
    "for sec in Soma:\n",
    "\n",
    "    sec.insert('hh')\n",
    "    \n",
    "    sec.Ra = axialresist\n",
    "    sec.cm = 1.0*membranecap\n",
    "\n",
    "    for seg in sec:\n",
    "        seg.hh.gnabar = 0.12  # Sodium conductance in S/cm2\n",
    "        seg.hh.gkbar = 0.036  # Potassium conductance in S/cm2\n",
    "        seg.hh.gl = 0.0003    # Leak conductance in S/cm2\n",
    "        seg.hh.el = -54.3     # Reversal potential in mV\n"
   ]
  },
  {
   "cell_type": "code",
   "execution_count": null,
   "id": "9be311d1-c3e2-4eb6-91bc-e41749106bf3",
   "metadata": {},
   "outputs": [],
   "source": []
  },
  {
   "cell_type": "code",
   "execution_count": 30,
   "id": "d9bafb02-df66-46fe-aafd-aeea34a1eb62",
   "metadata": {},
   "outputs": [],
   "source": [
    "import pandas as pd\n",
    "\n",
    "List = pd.read_csv(\"DATA/Section_List.csv\")\n",
    "\n",
    "filename = \"DATA/Pyrp22.hoc\"\n",
    "\n",
    "h.load_file(filename) \n",
    "\n",
    "allsec = h.allsec()\n",
    "\n",
    "dend = [s for s in allsec if s.name().startswith('dend')]\n",
    "\n",
    "#SELECTING SECTION FOR BACKGROUND NOISE\n",
    "def Select_Noise_sections(List,dend,Cell=\"Pyrp22\",rangeL=[0,1500],numNoiseInputs=100):\n",
    "    \n",
    "    Cell0 = List[(List['Cell']==Cell)&(List['Names'].str.contains(\"dend\"))]\n",
    "\n",
    "    #For background noise\n",
    "    rangeL = [0,1500]\n",
    "\n",
    "    SecNames = Cell0[(Cell0['L']>rangeL[0])&(Cell0['L']<rangeL[1])].Names.values\n",
    "\n",
    "    dendIdx0 = []\n",
    "\n",
    "    for i in range(len(dend)):\n",
    "        sec = dend[i]\n",
    "        if str(sec) in SecNames:\n",
    "            dendIdx0.append(i)\n",
    "    \n",
    "    dendIdx = np.random.choice(dendIdx0,numNoiseInputs)\n",
    "    \n",
    "    return dendIdx\n",
    "\n",
    "#SELECTING SECTION FOR INPUTs\n",
    "def Select_Input_sections(List,dendIdx,dend,Cell=\"Pyrp22\",rangeL=[0,50],numInputs=2):\n",
    "    #For sources\n",
    "    rangeL = [0,50]\n",
    "    \n",
    "    Cell0 = List[(List['Cell']==Cell)&(List['Names'].str.contains(\"dend\"))]\n",
    "\n",
    "    SecNamesSour = Cell0[(Cell0['L']>rangeL[0])&(Cell0['L']<rangeL[1])].Names.values\n",
    "\n",
    "    dendIdxSour0 = []\n",
    "\n",
    "    for i in range(len(dend)):\n",
    "        sec = dend[i]\n",
    "        if str(sec) in SecNamesSour:\n",
    "            dendIdxSour0.append(i)   \n",
    "\n",
    "    dendIdxSour = np.random.choice(dendIdxSour0,numInputs,replace=False)\n",
    "    \n",
    "    #To avoid selecting a section in noise input sections\n",
    "    Crit = True\n",
    "    while Crit:\n",
    "        for a in dendIdxSour:\n",
    "            if a in dendIdx:\n",
    "                dendIdxSour[:] = np.random.choice(dendIdxSour0,numInputs,replace=False)\n",
    "            else:\n",
    "                Crit = False\n",
    "    \n",
    "    return dendIdxSour\n",
    "\n",
    "dendIdx = Select_Noise_sections(List,dend)\n",
    "\n",
    "dendIdxSour = Select_Input_sections(List,dendIdx,dend)"
   ]
  },
  {
   "cell_type": "code",
   "execution_count": null,
   "id": "8747979b-074a-4ce8-9634-d37fa6da67f3",
   "metadata": {},
   "outputs": [],
   "source": []
  },
  {
   "cell_type": "code",
   "execution_count": 38,
   "id": "055d757d-fb3c-4350-a7a4-e49216683499",
   "metadata": {},
   "outputs": [],
   "source": [
    "rate = 10\n",
    "\n",
    "tmax = 10000 #ms\n",
    "\n",
    "#Number of sources\n",
    "numSour = 2\n",
    "\n",
    "#Parameters for decorrelate inputs\n",
    "noiM = 0 #Mean of time deviation (gaussian dist)\n",
    "noiStd = 10#Standart deviation of time deviation (gaussian dist)\n",
    "\n",
    "#NUmber of noisy synapses and inputs\n",
    "numNoiseInputs = 100\n",
    "\n",
    "dt = 0.0125\n",
    "\n",
    "h.dt = dt\n",
    "\n",
    "#Parameters\n",
    "loc = 0.5\n",
    "e = 0\n",
    "delay = 0\n",
    "weight = 0.05\n",
    "\n",
    "#Different time constants for E and I synapses\n",
    "tauE = [2,4]\n",
    "tauI = [2,5]\n",
    "\n",
    "ee,tau = EI_Synaptic_info(numNoiseInputs,tauE,tauI)\n",
    "\n",
    "import matplotlib.pyplot as plt\n",
    "\n",
    "#Creating Input (spiking time)\n",
    "stimulationsCorr = CorrInputs(tmax,rate)\n",
    "\n",
    "#stimulationsCorr is a Neuron object\n"
   ]
  },
  {
   "cell_type": "code",
   "execution_count": null,
   "id": "fb61aaa8-34aa-4d0a-b1ec-5bdbc53dfe32",
   "metadata": {},
   "outputs": [],
   "source": []
  },
  {
   "cell_type": "code",
   "execution_count": 39,
   "id": "95636284-aecc-407e-907e-9696739ab201",
   "metadata": {},
   "outputs": [],
   "source": [
    "\n",
    "# input stimulus (NetStim) parameters\n",
    "isi=60*ms         # mean interspike time interval\n",
    "num=10            # average number of spikes\n",
    "start=1*ms        # stimulus start time\n",
    "stop=tmax*ms      # simulation stop time\n",
    "noise=1         # noise parameter (must be a value from 0 to 1)\n",
    "\n",
    "seeds=np.random.randint(10000, size=numNoiseInputs)\n"
   ]
  },
  {
   "cell_type": "code",
   "execution_count": 40,
   "id": "8798b7a4-aa31-488f-81b1-6c14fb6e9e01",
   "metadata": {},
   "outputs": [],
   "source": [
    "#BACKGROUND NOISE\n",
    "# create synapses\n",
    "synapses = [createSynapse(dendIdx[i], loc=loc, tau=tau[i], e=ee[i]) for i in range(numNoiseInputs)]\n",
    "\n",
    "# create inputs\n",
    "stimulations = [createStim(isi=isi, num=num, start=start, noise=noise, seed=seeds[i]) for i in range(numNoiseInputs)]\n",
    "\n",
    "# connect inputs to synapses\n",
    "connections = [connectStim(synapses[i], stimulations[i], delay=delay, weight=weight) for i in range(numNoiseInputs)]\n",
    "\n",
    "#SOURCES\n",
    "# create synapses\n",
    "synapsesSour = [createSynapse(dendIdxSour[i], loc=loc, tau=tauE, e=0.) for i in range(numSour)]\n",
    "\n",
    "# connect inputs to synapses\n",
    "connectionsSour = [connectStim(synapsesSour[i], stimulationsCorr[i], delay=delay, weight=weight) for i in range(numSour)]\n"
   ]
  },
  {
   "cell_type": "code",
   "execution_count": 41,
   "id": "ada6c6d2-0e45-4936-bf49-29ebf27d145b",
   "metadata": {},
   "outputs": [],
   "source": [
    "# prepare output variable\n",
    "recordings = {'soma': h.Vector(),\n",
    "              'input': [h.Vector() for i in range(numSour)],\n",
    "              'inputTime': [h.Vector() for i in range(numSour)],\n",
    "              'dendrite': [h.Vector() for i in range(numSour)],\n",
    "              'synapse': [h.Vector() for i in range(numSour)],\n",
    "              'time': h.Vector()}\n",
    "\n",
    "# set up recordings\n",
    "recordings['soma'].record(Soma[0](0.5)._ref_v) # soma membrane potential\n",
    "recordings['time'].record(h._ref_t) # time steps\n",
    "\n",
    "for i, dend0 in enumerate(dendIdxSour):\n",
    "    recordings['dendrite'][i].record(dend[dend0](0.5)._ref_v)\n",
    "    recordings['synapse'][i].record(synapsesSour[i]._ref_i)\n",
    "    connectionsSour[i].record(recordings['inputTime'][i], recordings['input'][i])\n"
   ]
  },
  {
   "cell_type": "code",
   "execution_count": 42,
   "id": "818ed02f-23fe-472c-9da3-bbe7d0b75a1a",
   "metadata": {},
   "outputs": [
    {
     "data": {
      "text/plain": [
       "10000"
      ]
     },
     "execution_count": 42,
     "metadata": {},
     "output_type": "execute_result"
    }
   ],
   "source": [
    "tmax"
   ]
  },
  {
   "cell_type": "code",
   "execution_count": 43,
   "id": "1d9c85be-a2c0-4e2b-bfc9-d5babd99cc51",
   "metadata": {},
   "outputs": [
    {
     "data": {
      "text/plain": [
       "0.0"
      ]
     },
     "execution_count": 43,
     "metadata": {},
     "output_type": "execute_result"
    }
   ],
   "source": [
    "h.finitialize(-65 * mV)\n",
    "\n",
    "h.continuerun(tmax)\n"
   ]
  },
  {
   "cell_type": "code",
   "execution_count": 44,
   "id": "bed8da04-303e-4a2a-b3d4-726bd5553436",
   "metadata": {},
   "outputs": [],
   "source": [
    "# convert outputs into numpy arrays\n",
    "for k,v in recordings.items():\n",
    "    if k=='soma' or k=='time':\n",
    "        recordings[k] = np.array(list(recordings[k]))\n",
    "    else:\n",
    "        recordings[k] = [np.array(list(recordings[k][i])) for i in range(len(recordings[k]))]\n"
   ]
  },
  {
   "cell_type": "code",
   "execution_count": 45,
   "id": "a5efb3f2-ec46-492a-8fc4-2e1aacd94e95",
   "metadata": {},
   "outputs": [],
   "source": [
    "ini = 2000\n"
   ]
  },
  {
   "cell_type": "code",
   "execution_count": null,
   "id": "b9709173-226d-44ad-a7a9-e2cbf883421f",
   "metadata": {},
   "outputs": [],
   "source": []
  },
  {
   "cell_type": "code",
   "execution_count": 46,
   "id": "4d461c57-9149-4337-af73-8322fec7b3e7",
   "metadata": {},
   "outputs": [
    {
     "name": "stderr",
     "output_type": "stream",
     "text": [
      "/tmp/ipykernel_26596/1690088330.py:13: MatplotlibDeprecationWarning: The get_cmap function was deprecated in Matplotlib 3.7 and will be removed two minor releases later. Use ``matplotlib.colormaps[name]`` or ``matplotlib.colormaps.get_cmap(obj)`` instead.\n",
      "  cmap = cm.get_cmap('winter')\n"
     ]
    },
    {
     "data": {
      "text/plain": [
       "Text(0, 0.5, 'input id')"
      ]
     },
     "execution_count": 46,
     "metadata": {},
     "output_type": "execute_result"
    },
    {
     "data": {
      "image/png": "[encoded data removed]",
      "text/plain": [
       "<Figure size 800x400 with 2 Axes>"
      ]
     },
     "metadata": {},
     "output_type": "display_data"
    }
   ],
   "source": [
    "fig,ax = pyplot.subplots(2,1,figsize=(8,4)) # Default figsize is (8,6)\n",
    "\n",
    "soma_plot = ax[0].plot(recordings[\"time\"], recordings[\"soma\"], color='black')\n",
    "\n",
    "thres = -25\n",
    "\n",
    "ax[0].hlines(thres,0,tmax,color=\"red\",linestyle='dashed')\n",
    "\n",
    "ax[0].set_xlim(ini, tmax)\n",
    "ax[0].set_xlabel('time (ms)')\n",
    "ax[0].set_ylabel('mV')\n",
    "\n",
    "cmap = cm.get_cmap('winter')\n",
    "spacing = cmap.N//numSour\n",
    "\n",
    "colours = cmap(np.arange(0, cmap.N, spacing))\n",
    "    \n",
    "# rasterplot with input stimuli\n",
    "for i in range(2):\n",
    "    ax[1].vlines(recordings['inputTime'][i], i-0.4, i+0.4, colors=colours[i])  \n",
    "\n",
    "ax[1].set_yticks(range(len(recordings['input'])))\n",
    "ax[1].set_xlim(ini, tmax)\n",
    "ax[1].set_xlabel('time (ms)')\n",
    "ax[1].set_ylabel('input id')\n"
   ]
  },
  {
   "cell_type": "code",
   "execution_count": 54,
   "id": "ab3dde63-1043-48e5-8bfe-7e62ca9adc07",
   "metadata": {},
   "outputs": [],
   "source": [
    "#Time bin\n",
    "Ttb = np.arange(0,30,1)\n",
    "\n",
    "Ttb[0] = 1\n",
    "\n",
    "PIDS = []\n",
    "\n",
    "for tb in Ttb:\n",
    "\n",
    "    PIDs = PID_analysis(recordings,tau=1,Timebining=tb)\n",
    "    \n",
    "    PIDS.append(PIDs)\n"
   ]
  },
  {
   "cell_type": "code",
   "execution_count": 78,
   "id": "dd10ce67-4893-4891-bd5a-db99d2d64b13",
   "metadata": {},
   "outputs": [
    {
     "name": "stdout",
     "output_type": "stream",
     "text": [
      "Inputs correlation= 0.002926090460382623\n"
     ]
    },
    {
     "data": {
      "text/plain": [
       "Text(0, 0.5, 'Information (bits)')"
      ]
     },
     "execution_count": 78,
     "metadata": {},
     "output_type": "execute_result"
    },
    {
     "data": {
      "image/png": "[encoded data removed]",
      "text/plain": [
       "<Figure size 640x480 with 1 Axes>"
      ]
     },
     "metadata": {},
     "output_type": "display_data"
    }
   ],
   "source": [
    "labels = [\"Red\",\"Unique\",\"Synergy\"]\n",
    "\n",
    "PIDS = np.array(PIDS)\n",
    "\n",
    "for i in range(len(labels)):\n",
    "    \n",
    "    plt.plot(Ttb,PIDS[:,i],'o',label=labels[i])\n",
    "\n",
    "plt.legend()\n",
    "\n",
    "print(\"Inputs correlation=\",np.mean(PIDS[:,-1]))\n",
    "\n",
    "plt.xlabel(\"Time bining\")\n",
    "plt.ylabel(\"Information (bits)\")\n"
   ]
  },
  {
   "cell_type": "code",
   "execution_count": 97,
   "id": "b48eea52-82b3-4280-9925-3f42682197c3",
   "metadata": {},
   "outputs": [
    {
     "data": {
      "text/plain": [
       "8"
      ]
     },
     "execution_count": 97,
     "metadata": {},
     "output_type": "execute_result"
    }
   ],
   "source": [
    "#Timebin that maximize information atom measured\n",
    "MaxTimeBin = Ttb[np.where(PIDS == np.max(PIDS[:,:3]))[0][0]]\n",
    "\n",
    "MaxTimeBin"
   ]
  },
  {
   "cell_type": "code",
   "execution_count": 103,
   "id": "e803f055-aa4d-45d0-83ab-15b7cdbd1ad9",
   "metadata": {},
   "outputs": [],
   "source": [
    "#Time bin\n",
    "Taus = np.arange(1,30,1)\n",
    "\n",
    "PIDSt = []\n",
    "\n",
    "for taus in Taus:\n",
    "\n",
    "    PIDst = PID_analysis(recordings,tau=taus,Timebining=1)\n",
    "    \n",
    "    PIDSt.append(PIDst)\n"
   ]
  },
  {
   "cell_type": "code",
   "execution_count": 104,
   "id": "0a0aa0a1-50eb-4b5c-83ec-91ecffb78a19",
   "metadata": {},
   "outputs": [
    {
     "name": "stdout",
     "output_type": "stream",
     "text": [
      "Inputs correlation= 0.002926090460382623\n"
     ]
    },
    {
     "data": {
      "text/plain": [
       "Text(0, 0.5, 'Information (bits)')"
      ]
     },
     "execution_count": 104,
     "metadata": {},
     "output_type": "execute_result"
    },
    {
     "data": {
      "image/png": "[encoded data removed]",
      "text/plain": [
       "<Figure size 640x480 with 1 Axes>"
      ]
     },
     "metadata": {},
     "output_type": "display_data"
    }
   ],
   "source": [
    "labels = [\"Red\",\"Unique\",\"Synergy\"]\n",
    "\n",
    "PIDSt = np.array(PIDSt)\n",
    "\n",
    "for i in range(len(labels)):\n",
    "    \n",
    "    plt.plot(Taus,PIDSt[:,i],'o',label=labels[i])\n",
    "\n",
    "plt.legend()\n",
    "\n",
    "print(\"Inputs correlation=\",np.mean(PIDSt[:,-1]))\n",
    "\n",
    "plt.xlabel(\"Time delay\")\n",
    "plt.ylabel(\"Information (bits)\")\n"
   ]
  },
  {
   "cell_type": "code",
   "execution_count": 106,
   "id": "8f08b6d2-d300-4018-b94e-de7eee276e52",
   "metadata": {},
   "outputs": [
    {
     "data": {
      "text/plain": [
       "6"
      ]
     },
     "execution_count": 106,
     "metadata": {},
     "output_type": "execute_result"
    }
   ],
   "source": [
    "#Delay that maximize information atom measured\n",
    "MaxTau = Taus[np.where(PIDSt == np.max(PIDSt[:,:3]))[0][0]]\n",
    "\n",
    "MaxTau"
   ]
  },
  {
   "cell_type": "code",
   "execution_count": null,
   "id": "efb90ce8-4be6-49aa-b47a-5fd1f3db31d7",
   "metadata": {},
   "outputs": [],
   "source": []
  }
 ],
 "metadata": {
  "kernelspec": {
   "display_name": "Python 3 (ipykernel)",
   "language": "python",
   "name": "python3"
  },
  "language_info": {
   "codemirror_mode": {
    "name": "ipython",
    "version": 3
   },
   "file_extension": ".py",
   "mimetype": "text/x-python",
   "name": "python",
   "nbconvert_exporter": "python",
   "pygments_lexer": "ipython3",
   "version": "3.10.12"
  }
 },
 "nbformat": 4,
 "nbformat_minor": 5
}
