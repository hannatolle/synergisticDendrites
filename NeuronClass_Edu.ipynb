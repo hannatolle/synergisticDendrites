{
 "cells": [
  {
   "cell_type": "markdown",
   "id": "f4c9baed-ac48-43ac-951e-45a43929e1f7",
   "metadata": {},
   "source": [
    "# MORPHOLOGY TEST"
   ]
  },
  {
   "cell_type": "code",
   "execution_count": 66,
   "id": "45615aec-3e1b-486c-93f4-5e410ca79f94",
   "metadata": {},
   "outputs": [],
   "source": [
    "import numpy as np\n",
    "from matplotlib import pyplot, cm\n",
    "from neuron import h, gui\n",
    "from neuron.units import mV, ms, sec, um\n",
    "\n",
    "%matplotlib inline\n",
    "# c compiler\n",
    "#!nrnivmodl vecevent.mod"
   ]
  },
  {
   "cell_type": "code",
   "execution_count": 67,
   "id": "7f19f656-1bb8-4355-a5b1-c9006b218593",
   "metadata": {},
   "outputs": [],
   "source": [
    "def createSynapse(dendIdx, loc=0.5, tau=[2*ms, 4*ms], e=0*mV):\n",
    "    \"\"\"Creates an excitatory synapse on the dendrite given by Idx.\"\"\"\n",
    "    syn = h.Exp2Syn(dend[dendIdx](loc))\n",
    "    syn.tau1 = tau[0]\n",
    "    syn.tau2 = tau[1]\n",
    "    syn.e = e\n",
    "    return syn \n",
    "\n",
    "def createStim(isi=20*ms, num=100, start=1*ms, noise=1, seed=9):\n",
    "    stim = h.NetStim()\n",
    "    stim.interval = isi\n",
    "    stim.number = num\n",
    "    stim.start = start\n",
    "    stim.noise = noise\n",
    "    stim.noiseFromRandom123(seed, 0, 0)\n",
    "    stim.seed(seed)\n",
    "    \n",
    "    return stim\n",
    "\n",
    "def connectStim(syn, stim, delay=1*ms, weight=0.4):\n",
    "    conn = h.NetCon(stim, syn)\n",
    "    conn.delay = delay\n",
    "    conn.weight[0] = weight\n",
    "    \n",
    "    return conn\n",
    "\n",
    "def createStim(isi=20*ms, num=100, start=1*ms, noise=1, seed=9):\n",
    "        stim = h.NetStim()\n",
    "        stim.interval = isi\n",
    "        stim.number = num\n",
    "        stim.start = start\n",
    "        stim.noise = noise\n",
    "        stim.noiseFromRandom123(seed, 0, 0)\n",
    "        stim.seed(seed)\n",
    "        return stim\n",
    "\n",
    "def homogeneous_poisson(rate, tmax, bin_size):\n",
    "    \"Rate in Hz, Tmax and bin_size in ms\"\n",
    "    \n",
    "    nbins = np.floor(tmax/bin_size).astype(int)\n",
    "    \n",
    "    prob_of_spike = rate * bin_size / 1e3 #In ms^-1\n",
    "    \n",
    "    spikes = np.random.rand(nbins) < prob_of_spike\n",
    "    \n",
    "    return spikes * 1\n",
    "\n",
    "def Background_noise(rate,bin_size,tmax,numInputs):\n",
    "\n",
    "    BoolTS = homogeneous_poisson(rate, tmax, bin_size)\n",
    "    \n",
    "    return [np.where(BoolTS==1)[0]*bin_size for i in range(numInputs)],BoolTS\n",
    "\n",
    "def CreateVecStim(numInputs,tmax,rate=10,bin_size=0.1):\n",
    "\n",
    "    Noise,BoolTS = Background_noise(rate,bin_size,tmax,numInputs)\n",
    "\n",
    "    stimulations = [h.VecStim() for i in range(numInputs)]\n",
    "\n",
    "    Noivec = [h.Vector(Noise[i]) for i in range(numInputs)]\n",
    "\n",
    "    for i in range(numInputs):\n",
    "        \n",
    "        stimulations[i].play(Noivec[i])\n",
    "    \n",
    "    return stimulations,Noise,BoolTS\n",
    "\n",
    "np.random.seed(12345)\n"
   ]
  },
  {
   "cell_type": "code",
   "execution_count": null,
   "id": "9d640024-52c3-4168-b3d8-35eaba79680c",
   "metadata": {},
   "outputs": [],
   "source": []
  },
  {
   "cell_type": "code",
   "execution_count": 129,
   "id": "4221ded6-52e7-4950-a575-06810f909b28",
   "metadata": {},
   "outputs": [],
   "source": [
    "\n",
    "def CorrInputs(tmax,rate,Nsour=2,bin_size=2.5,a=0,b=0):\n",
    "    \n",
    "    Noiseb,BoolTS = Background_noise(rate,bin_size,tmax,1)\n",
    "    \n",
    "    NoiseCorr = []\n",
    "    \n",
    "    NoiseCorr.append(np.int32(np.round(Noiseb[0])))\n",
    "    \n",
    "    for i in range(Nsour-1):\n",
    "\n",
    "        DerI = np.int32(np.round(Noiseb[0] + np.random.normal(a,b,len(Noiseb))))\n",
    "\n",
    "        #Inputs should be inside the simulation time interval\n",
    "        DerI *= 1*(DerI >= 0)*(DerI < tmax)\n",
    "\n",
    "        #Delete inputs at 0 s\n",
    "        DerI = [i for i in DerI if i!=0]\n",
    "\n",
    "        NoiseCorr.append(np.array(DerI))\n",
    "    \n",
    "    stimulationsSour = [h.VecStim() for i in range(Nsour)]\n",
    "\n",
    "    NoivecS = [h.Vector(NoiseCorr[i]) for i in range(Nsour)]\n",
    "\n",
    "    for i in range(Nsour):\n",
    "        \n",
    "        stimulationsSour[i].play(NoivecS[i])\n",
    "    \n",
    "    return stimulationsSour,NoiseCorr,BooleanInputInfo(NoiseCorrt,tmax,bin_size,numSour)\n",
    "\n",
    "def BooleanInputInfo(NoiseCorrt,tmax,bin_size,numSour):\n",
    "    \n",
    "    St = np.arange(0,tmax,bin_size)\n",
    "\n",
    "    Sbool = np.zeros([numSour,St.shape[0]],dtype=np.int8)\n",
    "\n",
    "    for i in range(len(NoiseCorrt)):\n",
    "\n",
    "        for j in NoiseCorrt[i]:\n",
    "\n",
    "            Sbool[i,np.where(St==j)] = 1\n",
    "    \n",
    "    return Sbool\n",
    "\n",
    "def EI_Synaptic_info(numNoiseInputs,tauE,tauI):\n",
    "    \n",
    "    pp = [0.8,0.2]\n",
    "\n",
    "    es = [0,-80]\n",
    "\n",
    "    ee = np.random.choice(es,numNoiseInputs,p=pp)\n",
    "\n",
    "    tau = np.zeros([ee.shape[0],2])\n",
    "\n",
    "    tau[np.where(ee<0)] = tauI\n",
    "    tau[np.where(ee>=0)] = tauE\n",
    "    \n",
    "    return ee,tau\n"
   ]
  },
  {
   "cell_type": "code",
   "execution_count": 130,
   "id": "93b0ea9c-32e1-4738-b411-942fb81edaa8",
   "metadata": {},
   "outputs": [
    {
     "data": {
      "text/plain": [
       "0.0"
      ]
     },
     "execution_count": 130,
     "metadata": {},
     "output_type": "execute_result"
    }
   ],
   "source": [
    "h.nrn_load_dll(\"x86_64/vecevent.so\")"
   ]
  },
  {
   "cell_type": "code",
   "execution_count": 131,
   "id": "34ab723d-47ad-4e3a-b7b2-e7d04df7886a",
   "metadata": {},
   "outputs": [],
   "source": [
    "\n",
    "filename = \"DATA/Pyrp22.hoc\"\n",
    "\n",
    "h.load_file(filename) \n",
    "\n",
    "allsec = h.allsec()\n",
    "\n",
    "dend = [s for s in allsec if s.name().startswith('dend')]\n"
   ]
  },
  {
   "cell_type": "code",
   "execution_count": null,
   "id": "f77a84fc-f4bc-4a2f-a2d3-11ee773bfbb2",
   "metadata": {},
   "outputs": [],
   "source": []
  },
  {
   "cell_type": "code",
   "execution_count": 132,
   "id": "4c68e540-4021-4c9a-af3d-62419b626188",
   "metadata": {},
   "outputs": [],
   "source": [
    "#INITIALIZE PARAMETERS\n",
    "\n",
    "Vrest = -70*mV\n",
    "\n",
    "# membrane properties are defined here */\n",
    "membranecap = 0.638856    # specific membrane capacitance in uF cm^-2 */\n",
    "membraneresist = 120236.0 # specific membrane resistance in ohm cm^2 */\n",
    "axialresist = 141.949     # axial resistivity in ohm cm */\n",
    "\n",
    "# dend sections\n",
    "dend = [s for s in allsec if s.name().startswith('dend')]\n",
    "\n",
    "for sec in dend:\n",
    "    \n",
    "    sec.insert('pas')\n",
    "    sec.e_pas=Vrest\n",
    "    sec.g_pas = 5.34/membraneresist\n",
    "    \n",
    "    sec.Ra = axialresist\n",
    "    sec.cm = 5.34*membranecap\n",
    "\n",
    "Soma = [s for s in allsec if s.name().startswith('soma')]\n",
    "\n",
    "for sec in Soma:\n",
    "\n",
    "    sec.insert('hh')\n",
    "    \n",
    "    sec.Ra = axialresist\n",
    "    sec.cm = 1.0*membranecap\n",
    "\n",
    "    for seg in sec:\n",
    "        seg.hh.gnabar = 0.12  # Sodium conductance in S/cm2\n",
    "        seg.hh.gkbar = 0.036  # Potassium conductance in S/cm2\n",
    "        seg.hh.gl = 0.0003    # Leak conductance in S/cm2\n",
    "        seg.hh.el = -54.3     # Reversal potential in mV\n"
   ]
  },
  {
   "cell_type": "code",
   "execution_count": null,
   "id": "9be311d1-c3e2-4eb6-91bc-e41749106bf3",
   "metadata": {},
   "outputs": [],
   "source": []
  },
  {
   "cell_type": "code",
   "execution_count": 133,
   "id": "d9bafb02-df66-46fe-aafd-aeea34a1eb62",
   "metadata": {},
   "outputs": [],
   "source": [
    "import pandas as pd\n",
    "\n",
    "List = pd.read_csv(\"DATA/Section_List.csv\")\n",
    "\n",
    "filename = \"DATA/Pyrp22.hoc\"\n",
    "\n",
    "h.load_file(filename) \n",
    "\n",
    "allsec = h.allsec()\n",
    "\n",
    "dend = [s for s in allsec if s.name().startswith('dend')]\n",
    "\n",
    "#SELECTING SECTION FOR BACKGROUND NOISE\n",
    "\n",
    "def Select_Noise_sections(List,dend,Cell=\"Pyrp22\",rangeL=[0,1500],numNoiseInputs=100):\n",
    "    \n",
    "    Cell0 = List[(List['Cell']==Cell)&(List['Names'].str.contains(\"dend\"))]\n",
    "\n",
    "    #For background noise\n",
    "    rangeL = [0,1500]\n",
    "\n",
    "    SecNames = Cell0[(Cell0['L']>rangeL[0])&(Cell0['L']<rangeL[1])].Names.values\n",
    "\n",
    "    dendIdx0 = []\n",
    "\n",
    "    for i in range(len(dend)):\n",
    "        sec = dend[i]\n",
    "        if str(sec) in SecNames:\n",
    "            dendIdx0.append(i)\n",
    "    \n",
    "    dendIdx = np.random.choice(dendIdx0,numNoiseInputs)\n",
    "    \n",
    "    return dendIdx\n",
    "\n",
    "#SELECTING SECTION FOR INPUTs\n",
    "\n",
    "def Select_Input_sections(List,dendIdx,dend,Cell=\"Pyrp22\",rangeL=[0,50],numInputs=2):\n",
    "    #For sources\n",
    "    rangeL = [0,50]\n",
    "    \n",
    "    Cell0 = List[(List['Cell']==Cell)&(List['Names'].str.contains(\"dend\"))]\n",
    "\n",
    "    SecNamesSour = Cell0[(Cell0['L']>rangeL[0])&(Cell0['L']<rangeL[1])].Names.values\n",
    "\n",
    "    dendIdxSour0 = []\n",
    "\n",
    "    for i in range(len(dend)):\n",
    "        sec = dend[i]\n",
    "        if str(sec) in SecNamesSour:\n",
    "            dendIdxSour0.append(i)   \n",
    "\n",
    "    dendIdxSour = np.random.choice(dendIdxSour0,numInputs,replace=False)\n",
    "    \n",
    "    #To avoid selecting a section in noise input sections\n",
    "    Crit = True\n",
    "    while Crit:\n",
    "        for a in dendIdxSour:\n",
    "            if a in dendIdx:\n",
    "                dendIdxSour[:] = np.random.choice(dendIdxSour0,numInputs,replace=False)\n",
    "            else:\n",
    "                Crit = False\n",
    "    \n",
    "    return dendIdxSour\n",
    "\n",
    "dendIdx = Select_Noise_sections(List,dend)\n",
    "\n",
    "dendIdxSour = Select_Input_sections(List,dendIdx,dend)"
   ]
  },
  {
   "cell_type": "code",
   "execution_count": null,
   "id": "8747979b-074a-4ce8-9634-d37fa6da67f3",
   "metadata": {},
   "outputs": [],
   "source": []
  },
  {
   "cell_type": "code",
   "execution_count": 154,
   "id": "055d757d-fb3c-4350-a7a4-e49216683499",
   "metadata": {},
   "outputs": [],
   "source": [
    "rate = 10\n",
    "\n",
    "tmax = 12000 #ms\n",
    "bin_size = 1 #ms\n",
    "\n",
    "#Parameters for decorrelate inputs\n",
    "noiM = 0 #Mean of time deviation (gaussian dist)\n",
    "noiStd = 1 #Standart deviation of time deviation (gaussian dist)\n",
    "\n",
    "#NUmber of noisy synapses and inputs\n",
    "numNoiseInputs = 100\n",
    "numSour = 2\n",
    "\n",
    "dt = 0.0125\n",
    "\n",
    "h.dt = dt\n",
    "\n",
    "#Parameters\n",
    "loc = 0.5\n",
    "e = 0\n",
    "delay = 0\n",
    "weight = 0.05\n",
    "\n",
    "#Different time constants for E and I synapses\n",
    "tauE = [2,4]\n",
    "tauI = [2,5]\n",
    "\n",
    "ee,tau = EI_Synaptic_info(numNoiseInputs,tauE,tauI)\n",
    "\n",
    "import matplotlib.pyplot as plt\n",
    "\n",
    "#Creating Input (spiking time)\n",
    "stimulationsCorr,NoiseCorrt,Sbool = CorrInputs(tmax,rate,numSour,bin_size,noiM,noiStd)\n",
    "\n",
    "#stimulationsCorr is a Neuron object\n",
    "#NoiseCorrt is the list of spiking time\n",
    "#Sbool is a boolean time serie of the input"
   ]
  },
  {
   "cell_type": "code",
   "execution_count": 156,
   "id": "1936d227-8ef7-4d64-a6a2-4f9373012d1b",
   "metadata": {},
   "outputs": [
    {
     "data": {
      "text/plain": [
       "[<matplotlib.lines.Line2D at 0x7f2848f06fe0>]"
      ]
     },
     "execution_count": 156,
     "metadata": {},
     "output_type": "execute_result"
    },
    {
     "data": {
      "image/png": "[encoded data removed]",
      "text/plain": [
       "<Figure size 640x480 with 1 Axes>"
      ]
     },
     "metadata": {},
     "output_type": "display_data"
    }
   ],
   "source": [
    "plt.plot(Sbool[0])\n",
    "plt.plot(Sbool[1])\n"
   ]
  },
  {
   "cell_type": "code",
   "execution_count": 157,
   "id": "3e85b007-54bd-4150-a42e-8ee736b9871b",
   "metadata": {},
   "outputs": [
    {
     "name": "stdout",
     "output_type": "stream",
     "text": [
      "1\n",
      "Ratio of coincidence  0.0037\n"
     ]
    }
   ],
   "source": [
    "Coincid = len(np.where((Sbool[0]+Sbool[1])==2)[0])\n",
    "NoCoincid = np.sum(Sbool[0]) + np.sum(Sbool[1]) - len(np.where((Sbool[0]+Sbool[1])==2)[0])\n",
    "\n",
    "Ratio = np.round(Coincid/NoCoincid,4)\n",
    "\n",
    "print(Coincid)\n",
    "\n",
    "print(\"Ratio of coincidence \",Ratio)"
   ]
  },
  {
   "cell_type": "code",
   "execution_count": 39,
   "id": "95636284-aecc-407e-907e-9696739ab201",
   "metadata": {},
   "outputs": [],
   "source": [
    "\n",
    "# input stimulus (NetStim) parameters\n",
    "isi=60*ms         # mean interspike time interval\n",
    "num=10            # average number of spikes\n",
    "start=1*ms        # stimulus start time\n",
    "stop=tmax*ms      # simulation stop time\n",
    "noise=1         # noise parameter (must be a value from 0 to 1)\n",
    "\n",
    "seeds=np.random.randint(10000, size=numNoiseInputs)\n"
   ]
  },
  {
   "cell_type": "code",
   "execution_count": 40,
   "id": "8798b7a4-aa31-488f-81b1-6c14fb6e9e01",
   "metadata": {},
   "outputs": [],
   "source": [
    "#BACKGROUND NOISE\n",
    "# create synapses\n",
    "synapses = [createSynapse(dendIdx[i], loc=loc, tau=tau[i], e=ee[i]) for i in range(numNoiseInputs)]\n",
    "\n",
    "# create inputs\n",
    "stimulations = [createStim(isi=isi, num=num, start=start, noise=noise, seed=seeds[i]) for i in range(numNoiseInputs)]\n",
    "\n",
    "# connect inputs to synapses\n",
    "connections = [connectStim(synapses[i], stimulations[i], delay=delay, weight=weight) for i in range(numNoiseInputs)]\n",
    "\n",
    "#SOURCES\n",
    "# create synapses\n",
    "synapsesSour = [createSynapse(dendIdxSour[i], loc=loc, tau=tauE, e=0.) for i in range(numSour)]\n",
    "\n",
    "# connect inputs to synapses\n",
    "connectionsSour = [connectStim(synapsesSour[i], stimulationsCorr[i], delay=delay, weight=weight) for i in range(numSour)]\n"
   ]
  },
  {
   "cell_type": "code",
   "execution_count": 41,
   "id": "ada6c6d2-0e45-4936-bf49-29ebf27d145b",
   "metadata": {},
   "outputs": [],
   "source": [
    "# prepare output variable\n",
    "recordings = {'soma': h.Vector(),\n",
    "              'input': [h.Vector() for i in range(numSour)],\n",
    "              'inputTime': [h.Vector() for i in range(numSour)],\n",
    "              'dendrite': [h.Vector() for i in range(numSour)],\n",
    "              'synapse': [h.Vector() for i in range(numSour)],\n",
    "              'time': h.Vector()}\n",
    "\n",
    "# set up recordings\n",
    "recordings['soma'].record(Soma[0](0.5)._ref_v) # soma membrane potential\n",
    "recordings['time'].record(h._ref_t) # time steps\n",
    "\n",
    "for i, dend0 in enumerate(dendIdxSour):\n",
    "    recordings['dendrite'][i].record(dend[dend0](0.5)._ref_v)\n",
    "    recordings['synapse'][i].record(synapsesSour[i]._ref_i)\n",
    "    connectionsSour[i].record(recordings['inputTime'][i], recordings['input'][i])\n"
   ]
  },
  {
   "cell_type": "code",
   "execution_count": 42,
   "id": "818ed02f-23fe-472c-9da3-bbe7d0b75a1a",
   "metadata": {},
   "outputs": [
    {
     "data": {
      "text/plain": [
       "12000"
      ]
     },
     "execution_count": 42,
     "metadata": {},
     "output_type": "execute_result"
    }
   ],
   "source": [
    "tmax"
   ]
  },
  {
   "cell_type": "code",
   "execution_count": 43,
   "id": "1d9c85be-a2c0-4e2b-bfc9-d5babd99cc51",
   "metadata": {},
   "outputs": [
    {
     "data": {
      "text/plain": [
       "0.0"
      ]
     },
     "execution_count": 43,
     "metadata": {},
     "output_type": "execute_result"
    }
   ],
   "source": [
    "h.finitialize(-65 * mV)\n",
    "\n",
    "h.continuerun(tmax)\n"
   ]
  },
  {
   "cell_type": "code",
   "execution_count": 44,
   "id": "bed8da04-303e-4a2a-b3d4-726bd5553436",
   "metadata": {},
   "outputs": [],
   "source": [
    "# convert outputs into numpy arrays\n",
    "for k,v in recordings.items():\n",
    "    if k=='soma' or k=='time':\n",
    "        recordings[k] = np.array(list(recordings[k]))\n",
    "    else:\n",
    "        recordings[k] = [np.array(list(recordings[k][i])) for i in range(len(recordings[k]))]\n"
   ]
  },
  {
   "cell_type": "code",
   "execution_count": 53,
   "id": "a5efb3f2-ec46-492a-8fc4-2e1aacd94e95",
   "metadata": {},
   "outputs": [],
   "source": [
    "ini = 2000\n"
   ]
  },
  {
   "cell_type": "code",
   "execution_count": null,
   "id": "b9709173-226d-44ad-a7a9-e2cbf883421f",
   "metadata": {},
   "outputs": [],
   "source": []
  },
  {
   "cell_type": "code",
   "execution_count": 54,
   "id": "4d461c57-9149-4337-af73-8322fec7b3e7",
   "metadata": {},
   "outputs": [
    {
     "name": "stderr",
     "output_type": "stream",
     "text": [
      "/tmp/ipykernel_6374/1690088330.py:13: MatplotlibDeprecationWarning: The get_cmap function was deprecated in Matplotlib 3.7 and will be removed two minor releases later. Use ``matplotlib.colormaps[name]`` or ``matplotlib.colormaps.get_cmap(obj)`` instead.\n",
      "  cmap = cm.get_cmap('winter')\n"
     ]
    },
    {
     "data": {
      "text/plain": [
       "Text(0, 0.5, 'input id')"
      ]
     },
     "execution_count": 54,
     "metadata": {},
     "output_type": "execute_result"
    },
    {
     "data": {
      "image/png": "[encoded data removed]",
      "text/plain": [
       "<Figure size 800x400 with 2 Axes>"
      ]
     },
     "metadata": {},
     "output_type": "display_data"
    }
   ],
   "source": [
    "fig,ax = pyplot.subplots(2,1,figsize=(8,4)) # Default figsize is (8,6)\n",
    "\n",
    "soma_plot = ax[0].plot(recordings[\"time\"], recordings[\"soma\"], color='black')\n",
    "\n",
    "thres = -25\n",
    "\n",
    "ax[0].hlines(thres,0,tmax,color=\"red\",linestyle='dashed')\n",
    "\n",
    "ax[0].set_xlim(ini, tmax)\n",
    "ax[0].set_xlabel('time (ms)')\n",
    "ax[0].set_ylabel('mV')\n",
    "\n",
    "cmap = cm.get_cmap('winter')\n",
    "spacing = cmap.N//numSour\n",
    "\n",
    "colours = cmap(np.arange(0, cmap.N, spacing))\n",
    "    \n",
    "# rasterplot with input stimuli\n",
    "for i in range(2):\n",
    "    ax[1].vlines(recordings['inputTime'][i], i-0.4, i+0.4, colors=colours[i])  \n",
    "\n",
    "ax[1].set_yticks(range(len(recordings['input'])))\n",
    "ax[1].set_xlim(ini, tmax)\n",
    "ax[1].set_xlabel('time (ms)')\n",
    "ax[1].set_ylabel('input id')\n"
   ]
  },
  {
   "cell_type": "code",
   "execution_count": 62,
   "id": "af971d23-f361-4c1b-b828-55d9a9b875b7",
   "metadata": {},
   "outputs": [],
   "source": [
    "\n",
    "def TimeBining(recordings,bin_size,thres=-30,Timebining=1):\n",
    "    \n",
    "    Vsoma = 1*(recordings[\"soma\"] > thres)\n",
    "\n",
    "    t = recordings[\"time\"]\n",
    "\n",
    "    dt = np.mean(t[1:]-t[:-1])\n",
    "\n",
    "    tw = int(np.round(bin_size/dt))\n",
    "    \n",
    "    #Equalize input and soma time series\n",
    "    \n",
    "    Somabool = np.zeros(len(Sbool[0]),dtype=np.int8)\n",
    "\n",
    "    for i in range(len(Somabool)-1):\n",
    "\n",
    "        Somabool[i] = np.sum(Vsoma[tw*i:tw*(i+1)])>0\n",
    "    \n",
    "    ######################################\n",
    "    \n",
    "    T = int(len(Somabool)/Timebining)\n",
    "\n",
    "    timeS = np.zeros([3,T],dtype=np.int32)\n",
    "\n",
    "    SS = [Somabool]\n",
    "    \n",
    "    for i in range(len(Sbool)):\n",
    "        SS.append(Sbool[i])\n",
    "\n",
    "    for j in range(1+len(Sbool)):\n",
    "\n",
    "        for i in range(T-1):\n",
    "\n",
    "            timeS[j,i] = np.int32(1*(np.sum(SS[j][i*Timebining:(i+1)*Timebining])>0))\n",
    "\n",
    "    return timeS\n"
   ]
  },
  {
   "cell_type": "code",
   "execution_count": 65,
   "id": "ab3dde63-1043-48e5-8bfe-7e62ca9adc07",
   "metadata": {},
   "outputs": [],
   "source": [
    "#Time bin\n",
    "tb = 10\n",
    "\n",
    "timeS = TimeBining(recordings,bin_size,-30,tb)\n",
    "\n",
    "LabelS = [\"Soma\",\"S1\",\"S2\"]\n",
    "\n",
    "Data = pd.DataFrame()\n",
    "\n",
    "cellT = filename.split(\"/\")[1].split(\".\")[0]\n",
    "\n",
    "for i in range(1+len(Sbool)):\n",
    "    \n",
    "    Data[LabelS[i]] = timeS[i,:]\n",
    "\n",
    "#save data\n",
    "Data.to_csv(\"PID/Time_serie_\"+cellT+\"_Simdt_\"+str(np.round(dt,4))+\"_tbin_\"+str(tb)+\"_.csv\",index=False)\n"
   ]
  }
 ],
 "metadata": {
  "kernelspec": {
   "display_name": "Python 3 (ipykernel)",
   "language": "python",
   "name": "python3"
  },
  "language_info": {
   "codemirror_mode": {
    "name": "ipython",
    "version": 3
   },
   "file_extension": ".py",
   "mimetype": "text/x-python",
   "name": "python",
   "nbconvert_exporter": "python",
   "pygments_lexer": "ipython3",
   "version": "3.10.12"
  }
 },
 "nbformat": 4,
 "nbformat_minor": 5
}
